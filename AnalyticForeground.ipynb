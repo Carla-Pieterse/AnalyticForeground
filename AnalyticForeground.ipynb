{
 "cells": [
  {
   "cell_type": "code",
   "execution_count": 39,
   "metadata": {
    "collapsed": false,
    "jupyter": {
     "outputs_hidden": false
    },
    "pycharm": {
     "name": "#%%\n"
    }
   },
   "outputs": [],
   "source": [
    "%matplotlib inline"
   ]
  },
  {
   "cell_type": "code",
   "execution_count": 40,
   "metadata": {},
   "outputs": [],
   "source": [
    "%run Test.py"
   ]
  },
  {
   "cell_type": "markdown",
   "metadata": {
    "pycharm": {
     "name": "#%% md\n"
    }
   },
   "source": [
    "Analytical Foreground"
   ]
  },
  {
   "cell_type": "code",
   "execution_count": null,
   "metadata": {},
   "outputs": [],
   "source": [
    "l = np.arange(2000)\n",
    "y = np.arange(3500)"
   ]
  },
  {
   "cell_type": "markdown",
   "metadata": {},
   "source": [
    "Santos:\n",
    "https://arxiv.org/pdf/astro-ph/0408515.pdf"
   ]
  },
  {
   "cell_type": "code",
   "execution_count": null,
   "metadata": {
    "pycharm": {
     "name": "#%%\n"
    }
   },
   "outputs": [],
   "source": [
    "A = 6.6*10**-3 #K^2\n",
    "nu_21 = 1420. # MHz\n",
    "nu_c = 600. # MHz\n",
    "nu_l = 400. # MHz\n",
    "nu_r = 800. # MHz\n",
    "nu_lower_bound = 200. ; nu_upper_bound = 1000. # MHz\n",
    "n_y= 2000 # number of frequency channels- half of these within HIRAX bandwidth\n",
    "beta = 2.8 # SHAW # SANTOS 2.8 # spec index from Santos et al 2005\n",
    "xi = 4  # SHAW # SANTOS 4.0 # spec index variance from Santos et al 2005\n",
    "alpha = 2.8\n",
    "N = 1\n",
    "nu = np.linspace(nu_l,nu_2, n_y)\n",
    "nu_tilde = np.linspace((nu_lower_bound-nu_c)/nu_21, (nu_upper_bound-nu_c)/nu_21, n_y)\n",
    "nu_tilde_prime = nu/ nu_21\n"
   ]
  },
  {
   "cell_type": "code",
   "execution_count": null,
   "metadata": {},
   "outputs": [],
   "source": [
    "cl = np.empty(l.size, y.size)"
   ]
  },
  {
   "cell_type": "code",
   "execution_count": 41,
   "metadata": {},
   "outputs": [],
   "source": [
    "import numpy as np\n",
    "## Y MODES- Radial wave number\n",
    "n_y= 2000 # (Number of frequency  channels)half of these go into final output\n",
    "nu_21 = 1420. # MHz Resting Frequency of 21 cm line\n",
    "nu_c = 600. # MHz Center frequency\n",
    "nu_l = 400. # MHz Left frequency limit\n",
    "nu_r = 800. # MHz Right frequency limit\n",
    "\n",
    "beta_freq = 2.8 # SHAW # SANTOS 2.8 # spec index from Santos et al 2005\n",
    "xi = 4.0 # SHAW # SANTOS 4.0 # spec index variance from Santos et al 2005\n",
    "\n",
    "\n",
    "nu_lower_bound = 200. #MHz\n",
    "nu_upper_bound = 1000. # MHz\n",
    "\n",
    "nu_tilde=np.linspace((nu_lower_bound-nu_c)/nu_21, (nu_upper_bound-nu_c)/nu_21, n_y)\n",
    "nu_c_tilde = nu_c / nu_21 #Normalised centre frequency with rest frequency of 21 cm \n",
    "nu_l_tilde = nu_l/nu_21 #Normalised left frequency limit with rest freq of 21 cm \n",
    "indices_left = np.where(nu_tilde < (nu_l-nu_c)/nu_21)\n",
    "indices_right = np.where(nu_tilde > (nu_r-nu_c)/nu_21)\n",
    "\n",
    "galspec_nu = (nu_c_tilde*(nu_c_tilde + nu_tilde))**(-beta_freq)*np.exp(-1.0/(2.0*xi**2)*np.log(1.0+nu_tilde/nu_c_tilde )**2)\n",
    "galspec_nu[indices_left] =0. \n",
    "galspec_nu[indices_right] =0.\n",
    "\n",
    "taper = np.cos(nu_tilde/((nu_r-nu_c)/nu_21)*np.pi/2)**4\n",
    "\n",
    "d=((nu_r-nu_l)/nu_21)/n_y\n",
    "y_arr_negpos=np.fft.fftfreq(n_y,d)\n",
    "\n",
    "galspec_y_negpos=np.abs(np.fft.fft(galspec_nu)*d)\n",
    "galspec_y_taper_negpos=np.abs(np.fft.fft(taper * galspec_nu)*d)\n",
    "taper_y_negpos = np.abs(np.fft.fft(taper)*d)\n",
    "\n",
    "y_arr=y_arr_negpos[1:int(n_y/2)]\n",
    "galspec_y=galspec_y_negpos[1:int(n_y/2)]\n",
    "galspec_y_taper=galspec_y_taper_negpos[1:int(n_y/2)]\n",
    "\n",
    "## ELL MODES - Angular wave number\n",
    "n_ell =  50\n",
    "ell_max = 2000.0\n",
    "ell_min = 2 # 40.0\n",
    "ell_arr=np.linspace(ell_min,ell_max,n_ell)\n",
    "ell_norm = 100. # SHAW # SANTOS 1000.\n",
    "alpha_ell = 2.8 # SHAW # SANTOS 2.4 # ell index from Santos et al 2005\n",
    "nu_norm_model = 408.0 # SHAW # SANTOS 130.0\n",
    "nu_amp_model = 6.6  # SHAW # SANTOS 700.0 # mk^2 (A)\n",
    "\n",
    "gal_amplitude = nu_amp_model * (nu_21/nu_norm_model)**(-2.0*beta_freq)  # from Santos et al 2004 at nu = 130 - scale to nu_21 used here\n",
    "galspec_ell = gal_amplitude * (ell_arr/ell_norm)**(-alpha_ell)\n",
    "galspec = np.outer(galspec_ell, galspec_y_taper)"
   ]
  },
  {
   "cell_type": "code",
   "execution_count": null,
   "metadata": {},
   "outputs": [],
   "source": [
    "import numpy as np\n",
    "import matplotlib.pyplot as plt\n",
    "from matplotlib import cm\n",
    "from mpl_toolkits.mplot3d import Axes3D\n",
    "\n",
    "X = ell_arr\n",
    "Y = y_arr\n",
    "X, Y = np.meshgrid(X, Y)\n",
    "Z = galspec\n",
    "\n",
    "fig = plt.figure()\n",
    "ax = Axes3D(fig)\n",
    "ax.plot_surface(X, Y, Z, rstride=1, cstride=1, cmap=cm.viridis)\n",
    "\n",
    "plt.show()"
   ]
  },
  {
   "cell_type": "code",
   "execution_count": null,
   "metadata": {},
   "outputs": [],
   "source": [
    "import matplotlib\n",
    "matplotlib.axes.Axes.imshow\n",
    "matplotlib.pyplot.imshow\n",
    "matplotlib.artist.Artist.set_clip_path\n",
    "matplotlib.patches.PathPatch\n",
    "fig, ax = plt.subplots()\n",
    "#im = ax.imshow(Z, interpolation='bilinear')\n",
    "im = ax.imshow(Z, interpolation='bilinear')"
   ]
  },
  {
   "cell_type": "code",
   "execution_count": 75,
   "metadata": {},
   "outputs": [
    {
     "data": {
      "text/plain": [
       "<matplotlib.colorbar.Colorbar at 0x2d8ca885088>"
      ]
     },
     "execution_count": 75,
     "metadata": {},
     "output_type": "execute_result"
    },
    {
     "data": {
      "image/png": "[encoded data removed]",
      "text/plain": [
       "<Figure size 432x288 with 2 Axes>"
      ]
     },
     "metadata": {
      "needs_background": "light"
     },
     "output_type": "display_data"
    }
   ],
   "source": [
    "import numpy as np\n",
    "import matplotlib.pyplot as plt\n",
    "from matplotlib import cm\n",
    "from matplotlib.colors import LogNorm\n",
    "#plt.figure()\n",
    "\n",
    "dx = ell_arr[1] - ell_arr[0]\n",
    "dy = y_arr[1] - y_arr[0]\n",
    "xc = ell_arr - dx\n",
    "yc = y_arr - dy\n",
    "fig, ax = plt.subplots()\n",
    "im = ax.pcolorfast(xc, yc, Z, norm=LogNorm(vmin=1e-14, vmax=1e3))\n",
    "#im = plt.imshow(np.log10(Z), origin='lower',\n",
    "                #extent=[ell_arr[0], ell_arr[-1], y_arr[0], y_arr[-1]])\n",
    "#ax.set_xticklabels(ell_arr)\n",
    "#ax.set_xlim([np.min(ell_arr), np.max(ell_arr)])\n",
    "#ax.set_xscale('linear')\n",
    "fig.colorbar(im)\n",
    "#plt.colorbar()\n",
    "#plt.show()"
   ]
  },
  {
   "cell_type": "code",
   "execution_count": 147,
   "metadata": {},
   "outputs": [],
   "source": [
    "#from astropy.constants import h"
   ]
  },
  {
   "cell_type": "code",
   "execution_count": null,
   "outputs": [],
   "source": [
    "h = 0.67 #Dimensionless hubble parameter"
   ],
   "metadata": {
    "collapsed": false,
    "pycharm": {
     "name": "#%%\n"
    }
   }
  },
  {
   "cell_type": "code",
   "execution_count": null,
   "outputs": [],
   "source": [
    "from astropy.cosmology import WMAP9 as cosmo\n",
    "H0 = (cosmo.H(0)).value #\n",
    "h = h.value"
   ],
   "metadata": {
    "collapsed": false,
    "pycharm": {
     "name": "#%%\n"
    }
   }
  },
  {
   "cell_type": "code",
   "execution_count": null,
   "outputs": [],
   "source": [
    "z1 = (nu_21-nu_l)/nu_l\n",
    "z2 = (nu_21-nu_r)/nu_r\n",
    "z_bar = (nu_21-nu_c)/nu_c\n",
    "a_bar = 1/(1+z_bar)"
   ],
   "metadata": {
    "collapsed": false,
    "pycharm": {
     "name": "#%%\n"
    }
   }
  },
  {
   "cell_type": "code",
   "execution_count": null,
   "outputs": [],
   "source": [
    "Hz = H0*cosmo.efunc(z_bar) #Hubble parameter\n",
    "Omega_H1 = 1e-3\n"
   ],
   "metadata": {
    "collapsed": false,
    "pycharm": {
     "name": "#%%\n"
    }
   }
  },
  {
   "cell_type": "code",
   "execution_count": null,
   "outputs": [],
   "source": [
    "Tb_z_bar =  0.566*h*(H0/Hz)*(Omega_H1/0.003)*(1+ z_bar)*(1+ z_bar)\n",
    "Tb_z_bar =  0.566*h*(cosmo.inv_efunc(z_bar))*(Omega_H1/0.003)*(1+ z_bar)*(1+ z_bar)\n",
    "Tb_z_bar\n",
    "#D = (5*)"
   ],
   "metadata": {
    "collapsed": false,
    "pycharm": {
     "name": "#%%\n"
    }
   }
  },
  {
   "cell_type": "code",
   "execution_count": 156,
   "metadata": {},
   "outputs": [],
   "source": []
  },
  {
   "cell_type": "code",
   "execution_count": 152,
   "metadata": {},
   "outputs": [],
   "source": [
    "from astropy.cosmology import WMAP9 as cosmo\n",
    "H0 = (cosmo.H(0)).value #\n",
    "h = h.value"
   ]
  },
  {
   "cell_type": "code",
   "execution_count": 153,
   "metadata": {},
   "outputs": [],
   "source": [
    "z1 = (nu_21-nu_l)/nu_l\n",
    "z2 = (nu_21-nu_r)/nu_r\n",
    "z_bar = (nu_21-nu_c)/nu_c\n",
    "a_bar = 1/(1+z_bar)"
   ]
  },
  {
   "cell_type": "code",
   "execution_count": 160,
   "metadata": {},
   "outputs": [],
   "source": [
    "Hz = H0*cosmo.efunc(z_bar) #Hubble parameter\n",
    "Omega_H1 = 1e-3\n"
   ]
  },
  {
   "cell_type": "code",
   "execution_count": 161,
   "metadata": {},
   "outputs": [
    {
     "data": {
      "text/plain": [
       "0.33324577735113464"
      ]
     },
     "execution_count": 161,
     "metadata": {},
     "output_type": "execute_result"
    }
   ],
   "source": [
    "Tb_z_bar =  0.566*h*(H0/Hz)*(Omega_H1/0.003)*(1+ z_bar)*(1+ z_bar)\n",
    "Tb_z_bar =  0.566*h*(cosmo.inv_efunc(z_bar))*(Omega_H1/0.003)*(1+ z_bar)*(1+ z_bar)\n",
    "Tb_z_bar\n",
    "#D = (5*)"
   ]
  },
  {
   "cell_type": "code",
   "execution_count": 144,
   "metadata": {},
   "outputs": [
    {
     "data": {
      "text/plain": [
       "1.0"
      ]
     },
     "execution_count": 144,
     "metadata": {},
     "output_type": "execute_result"
    }
   ],
   "source": []
  }
 ],
 "metadata": {
  "kernelspec": {
   "display_name": "Python 3",
   "language": "python",
   "name": "python3"
  },
  "language_info": {
   "codemirror_mode": {
    "name": "ipython",
    "version": 3
   },
   "file_extension": ".py",
   "mimetype": "text/x-python",
   "name": "python",
   "nbconvert_exporter": "python",
   "pygments_lexer": "ipython3",
   "version": "3.7.6"
  }
 },
 "nbformat": 4,
 "nbformat_minor": 4
}